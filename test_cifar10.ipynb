{
  "nbformat": 4,
  "nbformat_minor": 0,
  "metadata": {
    "colab": {
      "name": "test-cifar10.ipynb",
      "provenance": [],
      "collapsed_sections": [],
      "authorship_tag": "ABX9TyPMAjgjBwAqUvbTTfdCEQCg",
      "include_colab_link": true
    },
    "kernelspec": {
      "name": "python3",
      "display_name": "Python 3"
    },
    "accelerator": "GPU"
  },
  "cells": [
    {
      "cell_type": "markdown",
      "metadata": {
        "id": "view-in-github",
        "colab_type": "text"
      },
      "source": [
        "<a href=\"https://colab.research.google.com/github/TomislavStrugacevac/cifar10-dataset-machine-learning/blob/main/test_cifar10.ipynb\" target=\"_parent\"><img src=\"https://colab.research.google.com/assets/colab-badge.svg\" alt=\"Open In Colab\"/></a>"
      ]
    },
    {
      "cell_type": "code",
      "metadata": {
        "id": "b7gGL5cANb1z"
      },
      "source": [
        "import os\r\n",
        "import numpy as np\r\n",
        "import matplotlib.pyplot as plt\r\n",
        "import tensorflow as tf"
      ],
      "execution_count": null,
      "outputs": []
    },
    {
      "cell_type": "code",
      "metadata": {
        "id": "K2SBYRQZTMsa"
      },
      "source": [
        "cifar10 = tf.keras.datasets.cifar10\r\n",
        "(train_images, train_labels), (test_images, test_labels) = cifar10.load_data()"
      ],
      "execution_count": null,
      "outputs": []
    },
    {
      "cell_type": "code",
      "metadata": {
        "id": "PPHHv3TETVck"
      },
      "source": [
        "# need to divide by 255 for each channel so that we get values between 0 and 1\r\n",
        "train_images = train_images.astype('float32') / 255.0\r\n",
        "test_images = test_images.astype('float32') / 255.0"
      ],
      "execution_count": null,
      "outputs": []
    },
    {
      "cell_type": "code",
      "metadata": {
        "colab": {
          "base_uri": "https://localhost:8080/"
        },
        "id": "Espea97iTkpC",
        "outputId": "aa76b6fa-d320-42ca-96b7-d35a7aea6a9f"
      },
      "source": [
        "# reminder on how numpy axes work - collapsing order\r\n",
        "print('original data:')\r\n",
        "print(train_images.shape)\r\n",
        "print('vs np.mean - axis 0')\r\n",
        "print(np.mean(train_images, axis=(0)).shape)\r\n",
        "print('vs np.mean - axis 0,1')\r\n",
        "print(np.mean(train_images, axis=(0,1)).shape)\r\n",
        "print('vs np.mean - axis 0,1,2')\r\n",
        "print(np.mean(train_images, axis=(0,1,2)).shape)\r\n",
        "print('vs np.mean - axis 0,1,2,3')\r\n",
        "print(np.mean(train_images, axis=(0,1,2,3)).shape)\r\n",
        "# print(\"train labels:\")\r\n",
        "# print(train_labels)"
      ],
      "execution_count": null,
      "outputs": [
        {
          "output_type": "stream",
          "text": [
            "original data:\n",
            "(50000, 32, 32, 3)\n",
            "vs np.mean - axis 0\n",
            "(32, 32, 3)\n",
            "vs np.mean - axis 0,1\n",
            "(32, 3)\n",
            "vs np.mean - axis 0,1,2\n",
            "(3,)\n",
            "vs np.mean - axis 0,1,2,3\n",
            "()\n"
          ],
          "name": "stdout"
        }
      ]
    },
    {
      "cell_type": "code",
      "metadata": {
        "colab": {
          "base_uri": "https://localhost:8080/"
        },
        "id": "MFa7632xbL_L",
        "outputId": "f77ec916-5cfc-4156-f4d2-12775a38b806"
      },
      "source": [
        "# let's normalize the data using mean and standard deviation\r\n",
        "mean = np.mean(train_images, axis=(0,1,2,3))\r\n",
        "print(mean)\r\n",
        "std = np.std(train_images, axis=(0,1,2,3))\r\n",
        "print(std)"
      ],
      "execution_count": null,
      "outputs": [
        {
          "output_type": "stream",
          "text": [
            "0.4733649\n",
            "0.25156906\n"
          ],
          "name": "stdout"
        }
      ]
    },
    {
      "cell_type": "code",
      "metadata": {
        "colab": {
          "base_uri": "https://localhost:8080/",
          "height": 269
        },
        "id": "-NKcjaAwTo92",
        "outputId": "4245fd5d-1eee-44a1-931c-242289ada95e"
      },
      "source": [
        "plt.figure()\r\n",
        "plt.imshow(train_images[0])\r\n",
        "plt.colorbar()\r\n",
        "plt.grid(False)\r\n",
        "plt.show()"
      ],
      "execution_count": null,
      "outputs": [
        {
          "output_type": "display_data",
          "data": {
            "image/png": "[encoded data removed]",
            "text/plain": [
              "<Figure size 432x288 with 2 Axes>"
            ]
          },
          "metadata": {
            "tags": [],
            "needs_background": "light"
          }
        }
      ]
    },
    {
      "cell_type": "code",
      "metadata": {
        "id": "SSeN3GX7Tx3m"
      },
      "source": [
        "# build model\r\n",
        "model = tf.keras.Sequential([\r\n",
        "    tf.keras.layers.Flatten(input_shape=(32, 32, 3)),  # images are 32 x 32 pixels size\r\n",
        "    tf.keras.layers.Dense(526, activation='relu'),\r\n",
        "    tf.keras.layers.Dense(256, activation='relu'),\r\n",
        "    tf.keras.layers.Dense(128, activation='relu'),\r\n",
        "    tf.keras.layers.Dense(10)  # Cifar10 has 10 categories so last layer has 10 nodes\r\n",
        "])"
      ],
      "execution_count": null,
      "outputs": []
    },
    {
      "cell_type": "code",
      "metadata": {
        "colab": {
          "base_uri": "https://localhost:8080/"
        },
        "id": "XTv9iWDtT2Wd",
        "outputId": "a12ac8b0-edce-4ffa-b863-aef2fc796821"
      },
      "source": [
        "model.compile(optimizer='adam',\r\n",
        "              loss=tf.keras.losses.SparseCategoricalCrossentropy(from_logits=True),\r\n",
        "              metrics=['accuracy'])\r\n",
        "\r\n",
        "model.fit(train_images, train_labels, epochs=10)"
      ],
      "execution_count": null,
      "outputs": [
        {
          "output_type": "stream",
          "text": [
            "Epoch 1/10\n",
            "1563/1563 [==============================] - 4s 3ms/step - loss: 2.0013 - accuracy: 0.2712\n",
            "Epoch 2/10\n",
            "1563/1563 [==============================] - 4s 2ms/step - loss: 1.7093 - accuracy: 0.3859\n",
            "Epoch 3/10\n",
            "1563/1563 [==============================] - 4s 2ms/step - loss: 1.6099 - accuracy: 0.4230\n",
            "Epoch 4/10\n",
            "1563/1563 [==============================] - 4s 2ms/step - loss: 1.5453 - accuracy: 0.4457\n",
            "Epoch 5/10\n",
            "1563/1563 [==============================] - 4s 2ms/step - loss: 1.4963 - accuracy: 0.4638\n",
            "Epoch 6/10\n",
            "1563/1563 [==============================] - 4s 2ms/step - loss: 1.4667 - accuracy: 0.4742\n",
            "Epoch 7/10\n",
            "1563/1563 [==============================] - 4s 3ms/step - loss: 1.4360 - accuracy: 0.4832\n",
            "Epoch 8/10\n",
            "1563/1563 [==============================] - 4s 2ms/step - loss: 1.4185 - accuracy: 0.4946\n",
            "Epoch 9/10\n",
            "1563/1563 [==============================] - 4s 2ms/step - loss: 1.3813 - accuracy: 0.5074\n",
            "Epoch 10/10\n",
            "1563/1563 [==============================] - 4s 2ms/step - loss: 1.3602 - accuracy: 0.5088\n"
          ],
          "name": "stdout"
        },
        {
          "output_type": "execute_result",
          "data": {
            "text/plain": [
              "<tensorflow.python.keras.callbacks.History at 0x7fed5e572748>"
            ]
          },
          "metadata": {
            "tags": []
          },
          "execution_count": 18
        }
      ]
    }
  ]
}